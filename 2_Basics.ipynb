{
 "cells": [
  {
   "cell_type": "markdown",
   "metadata": {
    "colab_type": "text",
    "id": "n6mcxb2MfcSk"
   },
   "source": [
    "### PyTorch : Tensors\n",
    "- n-dimensional array\n",
    "- can utilise GPUs"
   ]
  },
  {
   "cell_type": "markdown",
   "metadata": {
    "colab_type": "text",
    "id": "cTX79AOi71hm"
   },
   "source": [
    "### Two layer neural network in PyTorch"
   ]
  },
  {
   "cell_type": "code",
   "execution_count": 21,
   "metadata": {
    "colab": {
     "base_uri": "https://localhost:8080/",
     "height": 293
    },
    "colab_type": "code",
    "id": "FqQKkgbefHkK",
    "outputId": "1a8bf82c-7409-4f52-8301-ab703ffd9679"
   },
   "outputs": [
    {
     "data": {
      "text/plain": [
       "[<matplotlib.lines.Line2D at 0x7f6174296048>]"
      ]
     },
     "execution_count": 21,
     "metadata": {
      "tags": []
     },
     "output_type": "execute_result"
    },
    {
     "data": {
      "image/png": "[encoded data removed]",
      "text/plain": [
       "<Figure size 432x288 with 1 Axes>"
      ]
     },
     "metadata": {
      "tags": []
     },
     "output_type": "display_data"
    }
   ],
   "source": [
    "import torch\n",
    "import matplotlib.pyplot as plt\n",
    "import numpy as np\n",
    "\n",
    "dtype = torch.float\n",
    "device = torch.device(\"cuda:0\")\n",
    "# device = torch.device(\"cpu\") #Uncomment this to run on GPU\n",
    "\n",
    "num_examples = 128\n",
    "Batch_size, D_in, H, D_out = 64, 1000, 100, 10\n",
    "\n",
    "# create random input and output data\n",
    "x = torch.randn(num_examples, D_in, device=device, dtype=dtype)\n",
    "y = torch.randn(num_examples, D_out, device=device, dtype=dtype)\n",
    "\n",
    "# Radomly initialize weights\n",
    "w1 = torch.randn(D_in, H, device=device, dtype=dtype)\n",
    "w2 = torch.randn(H, D_out, device=device, dtype=dtype)\n",
    "\n",
    "lr = 1e-6\n",
    "losses = [] # better to display instead of print many numbers\n",
    "\n",
    "for i in range(100):\n",
    "    # Forward pass\n",
    "    h = x.mm(w1)   # mm --> matrix multiplication \n",
    "    h_relu = h.clamp(min=0)\n",
    "    y_pred = h_relu.mm(w2)\n",
    "\n",
    "    # Compute and print loss\n",
    "    loss = (y_pred - y).pow(2).sum().item()\n",
    "    losses.append(loss)  \n",
    "\n",
    "    # Backprop to compute gradients of w1 and w2\n",
    "    grad_y_pred = 2.0 * (y_pred - y)\n",
    "    grad_w2 = h_relu.t().mm(grad_y_pred)\n",
    "    grad_h_relu = grad_y_pred.mm(w2.t())\n",
    "    grad_h = grad_h_relu.clone()\n",
    "    grad_h[h<0] = 0\n",
    "    grad_w1 = x.t().mm(grad_h)\n",
    "\n",
    "    # update weights using gradients\n",
    "    w1 -= lr*grad_w1 \n",
    "    w2 -= lr*grad_w2\n",
    "\n",
    "# Plot the loss\n",
    "plt.plot(np.arange(len(losses)), losses)"
   ]
  },
  {
   "cell_type": "markdown",
   "metadata": {
    "colab_type": "text",
    "id": "Nmlx0OY0BFLB"
   },
   "source": [
    "### Autograd\n",
    "\n",
    "As we proceed further it gets very difficult to write code for Backpropagation ourselves. So to help us out, we can use ***automatic differentiation*** using the ***autograd*** package in pytorch. Hence, we just have to define the ***computational graph*** for forward pass and autograd handles the backward pass."
   ]
  },
  {
   "cell_type": "code",
   "execution_count": 18,
   "metadata": {
    "colab": {
     "base_uri": "https://localhost:8080/",
     "height": 293
    },
    "colab_type": "code",
    "id": "M_Cb9RST__kE",
    "outputId": "8865468d-4d47-4d10-95fb-2fc7d6b48488"
   },
   "outputs": [
    {
     "data": {
      "text/plain": [
       "[<matplotlib.lines.Line2D at 0x7f61743b14a8>]"
      ]
     },
     "execution_count": 18,
     "metadata": {
      "tags": []
     },
     "output_type": "execute_result"
    },
    {
     "data": {
      "image/png": "[encoded data removed]",
      "text/plain": [
       "<Figure size 432x288 with 1 Axes>"
      ]
     },
     "metadata": {
      "tags": []
     },
     "output_type": "display_data"
    }
   ],
   "source": [
    "# We will use some of the variables defined above.\n",
    "\n",
    "# Create random tensors for weights\n",
    "# Setting autograd=True indicates that we want to compute gradients with \n",
    "# respect to these Tensors during the backward pass\n",
    "w1 = torch.randn(H, D_in, device=device, dtype=dtype, requires_grad=True)\n",
    "w2 = torch.randn(D_out, H, device=device, dtype=dtype, requires_grad=True)\n",
    "losses = []\n",
    "\n",
    "for t in range(100):\n",
    "    # same operations as above\n",
    "    y_pred = w2.mm(w1.mm(x).clamp(min=0))\n",
    "\n",
    "    # compute loss\n",
    "    loss = ((y_pred - y)**2).sum()\n",
    "    losses.append(loss.item())\n",
    "\n",
    "    # Use autograd to compute the backward pass. This call will compute the \n",
    "    # gradient of loss with respect to all tensors with require_grad = True\n",
    "    loss.backward()\n",
    "\n",
    "    # Manually update the weights using gradient descent\n",
    "    # So we will set all require_grad = False \n",
    "    with torch.no_grad():\n",
    "        w1 -= lr * w1.grad\n",
    "        w2 -= lr * w2.grad\n",
    "\n",
    "        # Manually zero the gradients after updating weights\n",
    "        w1.grad.zero_()\n",
    "        w2.grad.zero_()\n",
    "\n",
    "# Plot the loss\n",
    "plt.plot(np.arange(len(losses)), losses)"
   ]
  },
  {
   "cell_type": "markdown",
   "metadata": {
    "colab_type": "text",
    "id": "2tQuPjyeMJsx"
   },
   "source": [
    "### Defining new autograd functions"
   ]
  },
  {
   "cell_type": "markdown",
   "metadata": {
    "colab_type": "text",
    "id": "cA9XF-ykNUts"
   },
   "source": [
    "In PyTorch we can easily define our own autograd operator by defining a subclass of <b><i>torch.autograd.Function</i></b> and implementing the <b>forward</b> and ***backward*** functions."
   ]
  },
  {
   "cell_type": "code",
   "execution_count": 0,
   "metadata": {
    "colab": {},
    "colab_type": "code",
    "id": "_igkzhdGGfR_"
   },
   "outputs": [],
   "source": [
    "class MyReLU(torch.autograd.Function):\n",
    "    \"\"\"\n",
    "    Custom autograd function\n",
    "    \"\"\"\n",
    "\n",
    "    @staticmethod\n",
    "    def forward(ctx, input):\n",
    "        \"\"\"\n",
    "        ctx - cache to save stuff for backward pass\n",
    "        input - to be processed and given output\n",
    "        \"\"\"\n",
    "        ctx.save_for_backward(input)\n",
    "        return input.clamp(min=0)\n",
    "\n",
    "    @staticmethod\n",
    "    def backward(ctx, grad_output):\n",
    "        \"\"\"\n",
    "        ctx - cache saved during forward pass\n",
    "        grad_output - gradient of the loss w.r.t outupt, and \n",
    "                we have to compute gradient of loss w.r.t input\n",
    "        \"\"\"\n",
    "        input, = ctx.saved_tensors\n",
    "        grad_input = grad_output.clone()\n",
    "        grad_input[input < 0] = 0\n",
    "        return grad_input "
   ]
  },
  {
   "cell_type": "code",
   "execution_count": 19,
   "metadata": {
    "colab": {
     "base_uri": "https://localhost:8080/",
     "height": 293
    },
    "colab_type": "code",
    "id": "lAwo7c5zdqOT",
    "outputId": "821fd628-5be7-41c3-c0aa-94f1fabd295c"
   },
   "outputs": [
    {
     "data": {
      "text/plain": [
       "[<matplotlib.lines.Line2D at 0x7f617430de48>]"
      ]
     },
     "execution_count": 19,
     "metadata": {
      "tags": []
     },
     "output_type": "execute_result"
    },
    {
     "data": {
      "image/png": "[encoded data removed]",
      "text/plain": [
       "<Figure size 432x288 with 1 Axes>"
      ]
     },
     "metadata": {
      "tags": []
     },
     "output_type": "display_data"
    }
   ],
   "source": [
    "w1 = torch.randn(H, D_in, device=device, dtype=dtype, requires_grad=True)\n",
    "w2 = torch.randn(D_out, H, device=device, dtype=dtype, requires_grad=True)\n",
    "losses = []\n",
    "\n",
    "for t in range(100):\n",
    "    # to apply our Function we use Function.apply methd. We alias this as 'relu'\n",
    "    relu = MyReLU.apply\n",
    "    \n",
    "    # Here we use our self defined relu function\n",
    "    y_pred = w2.mm(relu(w1.mm(x)))\n",
    "\n",
    "    loss = ((y_pred - y)**2).sum()\n",
    "    losses.append(loss.item())\n",
    "\n",
    "    # use autograd\n",
    "    loss.backward()\n",
    "\n",
    "    with torch.no_grad():\n",
    "        w1 -= lr * w1.grad\n",
    "        w2 -= lr * w2.grad\n",
    "\n",
    "        w1.grad.zero_()\n",
    "        w2.grad.zero_()\n",
    "\n",
    "# Plot the loss\n",
    "plt.plot(np.arange(len(losses)), losses)"
   ]
  },
  {
   "cell_type": "markdown",
   "metadata": {
    "colab_type": "text",
    "id": "tKar3MC2ggBn"
   },
   "source": [
    "## nn module\n",
    "\n",
    "We generally think of neural networks in terms of layers, some of which have ***learnable parameters*** which are optimized during learning. In tensorflow, packages such as Keras provide this higher-level abstraction. In PyTorch, <i>**nn**<i> package serves the same purpose."
   ]
  },
  {
   "cell_type": "code",
   "execution_count": 4,
   "metadata": {
    "colab": {
     "base_uri": "https://localhost:8080/",
     "height": 286
    },
    "colab_type": "code",
    "id": "rbeVcAxiek_6",
    "outputId": "6ae5f161-1d6a-42c3-9639-39c993acc992"
   },
   "outputs": [
    {
     "data": {
      "text/plain": [
       "[<matplotlib.lines.Line2D at 0x7f0c78b4a1d0>]"
      ]
     },
     "execution_count": 4,
     "metadata": {
      "tags": []
     },
     "output_type": "execute_result"
    },
    {
     "data": {
      "image/png": "[encoded data removed]",
      "text/plain": [
       "<Figure size 432x288 with 1 Axes>"
      ]
     },
     "metadata": {
      "tags": []
     },
     "output_type": "display_data"
    }
   ],
   "source": [
    "# Use nn package to implement a two layer neural network\n",
    "\n",
    "x = torch.randn(num_examples, D_in)\n",
    "y = torch.randn(num_examples, D_out)\n",
    "\n",
    "# Define the model\n",
    "model = torch.nn.Sequential(\n",
    "    torch.nn.Linear(D_in, H),\n",
    "    torch.nn.ReLU(),\n",
    "    torch.nn.Linear(H, D_out)\n",
    "    )\n",
    "\n",
    "# Define the loss function\n",
    "# reduction is set to sum\n",
    "loss_fn = torch.nn.MSELoss(reduction='sum')\n",
    "losses = []\n",
    "\n",
    "lr = 1e-4\n",
    "for t in range(100):\n",
    "    # compute y by passing x to the model\n",
    "    y_pred = model(x)\n",
    "\n",
    "    # compute loss\n",
    "    loss = loss_fn(y_pred, y)\n",
    "    losses.append(loss.item())\n",
    "\n",
    "    # Zero the gradients before running backward pass\n",
    "    model.zero_grad()\n",
    "\n",
    "    # Compute the gradients for all learnable params in model\n",
    "    loss.backward()\n",
    "\n",
    "    # Update the weights using gradient descent (manually)\n",
    "    # Note that even this can be automated using built in optimizers \n",
    "    with torch.no_grad():\n",
    "        for param in model.parameters():\n",
    "            param -= lr*param.grad\n",
    "\n",
    "# Plot the loss\n",
    "plt.plot(np.arange(len(losses)), losses)"
   ]
  },
  {
   "cell_type": "markdown",
   "metadata": {
    "colab_type": "text",
    "id": "AbngRVPnmhLP"
   },
   "source": [
    "### PyTorch:optim\n",
    "\n",
    "The optim package in PyTorch has implementations of commonly used optimization algorithms and thus we can avoid doing manual updates to the weights as done until now."
   ]
  },
  {
   "cell_type": "code",
   "execution_count": 22,
   "metadata": {
    "colab": {
     "base_uri": "https://localhost:8080/",
     "height": 286
    },
    "colab_type": "code",
    "id": "wDoa-MurnfIf",
    "outputId": "65dbbfb6-2956-4b26-bc51-079e500237c3"
   },
   "outputs": [
    {
     "data": {
      "text/plain": [
       "[<matplotlib.lines.Line2D at 0x7f617421bb00>]"
      ]
     },
     "execution_count": 22,
     "metadata": {
      "tags": []
     },
     "output_type": "execute_result"
    },
    {
     "data": {
      "image/png": "[encoded data removed]",
      "text/plain": [
       "<Figure size 432x288 with 1 Axes>"
      ]
     },
     "metadata": {
      "tags": []
     },
     "output_type": "display_data"
    }
   ],
   "source": [
    "# Use nn package to implement a two layer neural network\n",
    "\n",
    "x = torch.randn(num_examples, D_in)\n",
    "y = torch.randn(num_examples, D_out)\n",
    "\n",
    "# Define the model\n",
    "model = torch.nn.Sequential(\n",
    "    torch.nn.Linear(D_in, H),\n",
    "    torch.nn.ReLU(),\n",
    "    torch.nn.Linear(H, D_out)\n",
    "    )\n",
    "\n",
    "# Define the loss function\n",
    "# reduction is set to sum\n",
    "loss_fn = torch.nn.MSELoss(reduction='sum')\n",
    "losses = []\n",
    "\n",
    "lr = 1e-4\n",
    "# Use the optim package to define an Optimizer that will update the model's parameters\n",
    "# The first argument to the Adam Constructor tells the optimizer which Tensors it should update\n",
    "optimizer = torch.optim.Adam(model.parameters(), lr=lr)\n",
    "\n",
    "for t in range(100):\n",
    "    # compute y by passing x to the model\n",
    "    y_pred = model(x)\n",
    "\n",
    "    # compute loss\n",
    "    loss = loss_fn(y_pred, y)\n",
    "    losses.append(loss.item())\n",
    "\n",
    "    # Zero the gradients for the tensors which the optimizer will update\n",
    "    # because the grads are stored in buffers(i.e, not overwritten) whenever\n",
    "    # .backward() is called\n",
    "    optimizer.zero_grad()\n",
    "\n",
    "    loss.backward()\n",
    "\n",
    "    #Calling the step function on an Optimizer makes an update to its parameters\n",
    "    optimizer.step()\n",
    "\n",
    "# Plot the loss\n",
    "plt.plot(np.arange(len(losses)), losses)"
   ]
  },
  {
   "cell_type": "markdown",
   "metadata": {
    "colab_type": "text",
    "id": "1JMqdrWaonUC"
   },
   "source": [
    "### Custom nn Modules\n",
    "\n",
    "For cases when we require models which are different than existing models, we can subclass ***nn.Module*** and define a ***forward*** which receives input Tensors and produces output Tensors."
   ]
  },
  {
   "cell_type": "code",
   "execution_count": 2,
   "metadata": {},
   "outputs": [
    {
     "data": {
      "text/plain": [
       "[<matplotlib.lines.Line2D at 0x7f80700f84a8>]"
      ]
     },
     "execution_count": 2,
     "metadata": {},
     "output_type": "execute_result"
    },
    {
     "data": {
      "image/png": "[encoded data removed]",
      "text/plain": [
       "<Figure size 432x288 with 1 Axes>"
      ]
     },
     "metadata": {
      "needs_background": "light"
     },
     "output_type": "display_data"
    }
   ],
   "source": [
    "# Custom Network\n",
    "class TwoLayerNet(torch.nn.Module):\n",
    "    def __init__(self, D_in, H, D_out):\n",
    "        super(TwoLayerNet, self).__init__()\n",
    "        self.linear1 = torch.nn.Linear(D_in, H)\n",
    "        self.linear2 = torch.nn.Linear(H, D_out)\n",
    "\n",
    "    def forward(self, x):\n",
    "        \"\"\"\n",
    "        Use modules defined in __init__ to process the input\n",
    "        \"\"\"\n",
    "        h_relu = self.linear1(x).clamp(min=0)\n",
    "        y_pred = self.linear2(h_relu)\n",
    "        return y_pred\n",
    "\n",
    "N, D_in, H, D_out = 64, 1000, 100, 10\n",
    "\n",
    "x = torch.randn(N, D_in)\n",
    "y = torch.randn(N, D_out)\n",
    "\n",
    "# initialise custom model\n",
    "model = TwoLayerNet(D_in, H, D_out)\n",
    "loss_fn = torch.nn.MSELoss()\n",
    "losses = []\n",
    "optim = torch.optim.Adam(model.parameters(), lr=1e-4)\n",
    "\n",
    "for t in range(500):\n",
    "    y_pred = model(x)\n",
    "    loss = loss_fn(y_pred, y)  # calculate loss\n",
    "    losses.append(loss)\n",
    "    optim.zero_grad() \n",
    "    loss.backward()   # backprop\n",
    "    optim.step()      # grad descent\n",
    "\n",
    "plt.plot(np.arange(len(losses)), losses)"
   ]
  },
  {
   "cell_type": "markdown",
   "metadata": {},
   "source": [
    "That's it for now."
   ]
  }
 ],
 "metadata": {
  "accelerator": "GPU",
  "colab": {
   "collapsed_sections": [],
   "name": "1. Basics.ipynb",
   "provenance": [],
   "version": "0.3.2"
  },
  "kernelspec": {
   "display_name": "Python 3",
   "language": "python",
   "name": "python3"
  },
  "language_info": {
   "codemirror_mode": {
    "name": "ipython",
    "version": 3
   },
   "file_extension": ".py",
   "mimetype": "text/x-python",
   "name": "python",
   "nbconvert_exporter": "python",
   "pygments_lexer": "ipython3",
   "version": "3.6.8"
  }
 },
 "nbformat": 4,
 "nbformat_minor": 1
}
