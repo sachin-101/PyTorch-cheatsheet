{
  "nbformat": 4,
  "nbformat_minor": 0,
  "metadata": {
    "colab": {
      "name": "Experimentation with Pytorch Autograd.ipynb",
      "provenance": [],
      "collapsed_sections": []
    },
    "kernelspec": {
      "name": "python3",
      "display_name": "Python 3"
    },
    "accelerator": "GPU"
  },
  "cells": [
    {
      "cell_type": "markdown",
      "metadata": {
        "id": "g6xCL9mPxHxw",
        "colab_type": "text"
      },
      "source": [
        "Trying to make pytorch autograd work for convolution using im2col."
      ]
    },
    {
      "cell_type": "code",
      "metadata": {
        "id": "aruEVObl8mJR",
        "colab_type": "code",
        "colab": {}
      },
      "source": [
        "import torch\n",
        "loss_fn = torch.nn.MSELoss(reduction='sum')"
      ],
      "execution_count": 0,
      "outputs": []
    },
    {
      "cell_type": "code",
      "metadata": {
        "id": "PwiLMpAsPsLS",
        "colab_type": "code",
        "colab": {}
      },
      "source": [
        "a = torch.rand((4,3), requires_grad=True)\n",
        "c = a.view(3,4)\n",
        "b = torch.rand((3,5), requires_grad=True)\n",
        "d = b.view(5,3)"
      ],
      "execution_count": 0,
      "outputs": []
    },
    {
      "cell_type": "code",
      "metadata": {
        "id": "wa8mN9Loohkj",
        "colab_type": "code",
        "colab": {
          "base_uri": "https://localhost:8080/",
          "height": 34
        },
        "outputId": "79e3d4c7-d5e0-4d77-878d-4de13a729e35"
      },
      "source": [
        "c.requires_grad"
      ],
      "execution_count": 15,
      "outputs": [
        {
          "output_type": "execute_result",
          "data": {
            "text/plain": [
              "True"
            ]
          },
          "metadata": {
            "tags": []
          },
          "execution_count": 15
        }
      ]
    },
    {
      "cell_type": "code",
      "metadata": {
        "id": "N_DDtlGBP3Yi",
        "colab_type": "code",
        "outputId": "d648428b-c5d2-4dd5-d095-29a73adcaf05",
        "colab": {
          "base_uri": "https://localhost:8080/",
          "height": 34
        }
      },
      "source": [
        "e = torch.mm(d, c)\n",
        "print(e.shape)"
      ],
      "execution_count": 16,
      "outputs": [
        {
          "output_type": "stream",
          "text": [
            "torch.Size([5, 4])\n"
          ],
          "name": "stdout"
        }
      ]
    },
    {
      "cell_type": "code",
      "metadata": {
        "id": "XRUJSj5AQ5Qs",
        "colab_type": "code",
        "outputId": "1bc15376-2b77-4d7f-efb4-fc46d490c46a",
        "colab": {
          "base_uri": "https://localhost:8080/",
          "height": 52
        }
      },
      "source": [
        "f = torch.sum(e)\n",
        "print(f)\n",
        "print(f.shape)"
      ],
      "execution_count": 17,
      "outputs": [
        {
          "output_type": "stream",
          "text": [
            "tensor(14.8477, grad_fn=<SumBackward0>)\n",
            "torch.Size([])\n"
          ],
          "name": "stdout"
        }
      ]
    },
    {
      "cell_type": "code",
      "metadata": {
        "id": "OwpY-mG8QCqp",
        "colab_type": "code",
        "outputId": "d61e519d-7865-43ea-85bc-328df5177935",
        "colab": {
          "base_uri": "https://localhost:8080/",
          "height": 89
        }
      },
      "source": [
        "loss2 = loss_fn(f, torch.tensor([20.]))\n",
        "print(loss2)"
      ],
      "execution_count": 18,
      "outputs": [
        {
          "output_type": "stream",
          "text": [
            "tensor(26.5464, grad_fn=<MseLossBackward>)\n"
          ],
          "name": "stdout"
        },
        {
          "output_type": "stream",
          "text": [
            "/usr/local/lib/python3.6/dist-packages/torch/nn/modules/loss.py:443: UserWarning: Using a target size (torch.Size([1])) that is different to the input size (torch.Size([])). This will likely lead to incorrect results due to broadcasting. Please ensure they have the same size.\n",
            "  return F.mse_loss(input, target, reduction=self.reduction)\n"
          ],
          "name": "stderr"
        }
      ]
    },
    {
      "cell_type": "code",
      "metadata": {
        "id": "dK19twjxQT0M",
        "colab_type": "code",
        "colab": {}
      },
      "source": [
        "loss.backward()"
      ],
      "execution_count": 0,
      "outputs": []
    },
    {
      "cell_type": "code",
      "metadata": {
        "id": "3-tMA9WFo2-S",
        "colab_type": "code",
        "colab": {}
      },
      "source": [
        "loss2.backward()"
      ],
      "execution_count": 0,
      "outputs": []
    },
    {
      "cell_type": "code",
      "metadata": {
        "id": "TlBB8wF3QsEL",
        "colab_type": "code",
        "outputId": "ac7b6ef0-8323-41ef-bee6-4c00e300f34c",
        "colab": {
          "base_uri": "https://localhost:8080/",
          "height": 139
        }
      },
      "source": [
        "# let's print some grads\n",
        "print(a.grad)\n",
        "print(b.grad)"
      ],
      "execution_count": 12,
      "outputs": [
        {
          "output_type": "stream",
          "text": [
            "tensor([[-14.4121, -21.3487, -27.2102],\n",
            "        [-14.4121, -21.3487, -27.2102],\n",
            "        [-14.4121, -21.3487, -27.2102],\n",
            "        [-14.4121, -21.3487, -27.2102]])\n",
            "tensor([[-12.7357, -12.7357, -12.7357, -12.7357, -12.7357],\n",
            "        [-18.9845, -18.9845, -18.9845, -18.9845, -18.9845],\n",
            "        [-12.6186, -12.6186, -12.6186, -12.6186, -12.6186]])\n"
          ],
          "name": "stdout"
        }
      ]
    },
    {
      "cell_type": "code",
      "metadata": {
        "id": "bKU6Lz-0o6z8",
        "colab_type": "code",
        "colab": {
          "base_uri": "https://localhost:8080/",
          "height": 52
        },
        "outputId": "a1d03672-b97f-4570-8b9e-77f435a2e86f"
      },
      "source": [
        "# let's print some grads\n",
        "print(c.grad)\n",
        "print(d.grad)"
      ],
      "execution_count": 20,
      "outputs": [
        {
          "output_type": "stream",
          "text": [
            "None\n",
            "None\n"
          ],
          "name": "stdout"
        }
      ]
    },
    {
      "cell_type": "code",
      "metadata": {
        "id": "F42KBxGppC4d",
        "colab_type": "code",
        "colab": {
          "base_uri": "https://localhost:8080/",
          "height": 34
        },
        "outputId": "b415476d-c22f-4879-f932-9612acc307bc"
      },
      "source": [
        "print(c.is_leaf)"
      ],
      "execution_count": 21,
      "outputs": [
        {
          "output_type": "stream",
          "text": [
            "False\n"
          ],
          "name": "stdout"
        }
      ]
    },
    {
      "cell_type": "code",
      "metadata": {
        "id": "DCAQXa67pF0C",
        "colab_type": "code",
        "colab": {
          "base_uri": "https://localhost:8080/",
          "height": 139
        },
        "outputId": "5e3aafaf-60cd-416e-df89-f760f51cce92"
      },
      "source": [
        "print(a.grad)\n",
        "print(b.grad)"
      ],
      "execution_count": 22,
      "outputs": [
        {
          "output_type": "stream",
          "text": [
            "tensor([[-24.2393, -24.2393, -24.2393],\n",
            "        [-24.2393, -15.6413, -15.6413],\n",
            "        [-15.6413, -15.6413, -35.2512],\n",
            "        [-35.2512, -35.2512, -35.2512]])\n",
            "tensor([[-22.9580, -28.3688, -16.3512, -22.9580, -28.3688],\n",
            "        [-16.3512, -22.9580, -28.3688, -16.3512, -22.9580],\n",
            "        [-28.3688, -16.3512, -22.9580, -28.3688, -16.3512]])\n"
          ],
          "name": "stdout"
        }
      ]
    },
    {
      "cell_type": "markdown",
      "metadata": {
        "id": "wukOF0DjRZuQ",
        "colab_type": "text"
      },
      "source": [
        "## let's do some magic"
      ]
    },
    {
      "cell_type": "code",
      "metadata": {
        "id": "m8-7SIWkRivd",
        "colab_type": "code",
        "colab": {}
      },
      "source": [
        "def im2col( x, hf, wf ,stride):\n",
        "\n",
        "    \"\"\"\n",
        "    Parameters:\n",
        "        x: image tensor to be translated into columns, (C,H,W)\n",
        "        hf: filter height\n",
        "        wf: filter width\n",
        "        stride: stride\n",
        "    Returns:\n",
        "        col: tensor of dimension (h_out*w_out,hf*wf*C), where each column is a cube that will convolve with a filter\n",
        "            h_out = (H-hf) // stride + 1, w_out = (W-wf) // stride + 1\n",
        "    \"\"\"\n",
        "\n",
        "    c,h,w = x.shape\n",
        "    h_out = (h-hf) // stride + 1\n",
        "    w_out = (w-wf) // stride + 1\n",
        "    x_col = torch.zeros(h_out*w_out,c*hf*wf)\n",
        "\n",
        "    for i in range(h_out):\n",
        "        for j in range(w_out):\n",
        "            patch = x[...,i*stride:i*stride+hf,j*stride:j*stride+wf]\n",
        "            x_col[i*w_out+j,:] = patch.reshape(-1)  #patch.reshape(-1)\n",
        "    return x_col, h_out, w_out\n",
        "    "
      ],
      "execution_count": 0,
      "outputs": []
    },
    {
      "cell_type": "code",
      "metadata": {
        "id": "kj3ImT-KRbpX",
        "colab_type": "code",
        "colab": {
          "base_uri": "https://localhost:8080/",
          "height": 86
        },
        "outputId": "051160b9-c1f5-4f96-9793-f5c6a94b2c77"
      },
      "source": [
        "C_out, C_in, hf, wf = 4, 3, 2, 2\n",
        "h_in, w_in = 28, 28\n",
        "x = torch.rand((C_in, h_in, w_in), requires_grad=True)\n",
        "kernels = torch.rand((C_out, C_in, hf, wf), requires_grad=True)\n",
        "\n",
        "print(x.is_leaf)\n",
        "print(kernels.is_leaf)\n",
        "print(x.requires_grad)\n",
        "print(kernels.requires_grad)"
      ],
      "execution_count": 24,
      "outputs": [
        {
          "output_type": "stream",
          "text": [
            "True\n",
            "True\n",
            "True\n",
            "True\n"
          ],
          "name": "stdout"
        }
      ]
    },
    {
      "cell_type": "code",
      "metadata": {
        "id": "wqf2ms3bp3Ya",
        "colab_type": "code",
        "colab": {}
      },
      "source": [
        "# x = self.pad_tensor(x)                               # pad input\n",
        "x_col, h_out, w_out = im2col(x, hf, wf,stride=1)"
      ],
      "execution_count": 0,
      "outputs": []
    },
    {
      "cell_type": "code",
      "metadata": {
        "id": "K-JawOULqVCL",
        "colab_type": "code",
        "colab": {
          "base_uri": "https://localhost:8080/",
          "height": 69
        },
        "outputId": "ce8cc07f-395a-4e6a-ef7b-3ba49ae70df2"
      },
      "source": [
        "# moment of truth\n",
        "print(x_col.requires_grad)\n",
        "print(x_col.grad_fn)\n",
        "print(x_col.is_leaf)"
      ],
      "execution_count": 37,
      "outputs": [
        {
          "output_type": "stream",
          "text": [
            "True\n",
            "<CopySlices object at 0x7f07cd0f05c0>\n",
            "False\n"
          ],
          "name": "stdout"
        }
      ]
    },
    {
      "cell_type": "code",
      "metadata": {
        "id": "CWqckVk6q32w",
        "colab_type": "code",
        "colab": {}
      },
      "source": [
        "x_col_t = x_col.t()\n",
        "x_col_t_cuda = x_col_t.to('cuda', dtype=torch.float)"
      ],
      "execution_count": 0,
      "outputs": []
    },
    {
      "cell_type": "code",
      "metadata": {
        "id": "Dtvwe82Lq98-",
        "colab_type": "code",
        "colab": {
          "base_uri": "https://localhost:8080/",
          "height": 86
        },
        "outputId": "8f427648-2ebc-452d-edee-b704ced1e5a8"
      },
      "source": [
        "# moment of truth\n",
        "print(x_col_t.grad_fn)\n",
        "print(x_col_t_cuda.requires_grad)\n",
        "print(x_col_t_cuda.grad_fn)\n",
        "print(x_col_t.is_leaf)"
      ],
      "execution_count": 40,
      "outputs": [
        {
          "output_type": "stream",
          "text": [
            "<TBackward object at 0x7f07d5ce5940>\n",
            "True\n",
            "<CopyBackwards object at 0x7f07d5ce5940>\n",
            "False\n"
          ],
          "name": "stdout"
        }
      ]
    },
    {
      "cell_type": "code",
      "metadata": {
        "id": "arva9L8MqOKM",
        "colab_type": "code",
        "colab": {
          "base_uri": "https://localhost:8080/",
          "height": 69
        },
        "outputId": "6fc330f0-7781-4a7b-dd44-21dae396c9d2"
      },
      "source": [
        "k_col = kernels.view(C_out, -1)                       # converted to 2d tensor \n",
        "print(k_col.requires_grad)\n",
        "print(k_col.grad_fn)\n",
        "print(k_col.is_leaf)"
      ],
      "execution_count": 41,
      "outputs": [
        {
          "output_type": "stream",
          "text": [
            "True\n",
            "<ViewBackward object at 0x7f07d5d13b70>\n",
            "False\n"
          ],
          "name": "stdout"
        }
      ]
    },
    {
      "cell_type": "code",
      "metadata": {
        "id": "f2Uub5yvr_jH",
        "colab_type": "code",
        "colab": {
          "base_uri": "https://localhost:8080/",
          "height": 34
        },
        "outputId": "c8ba9fbe-e3d9-45b2-d0d8-0615a851047f"
      },
      "source": [
        "print(k_col.shape)"
      ],
      "execution_count": 42,
      "outputs": [
        {
          "output_type": "stream",
          "text": [
            "torch.Size([4, 12])\n"
          ],
          "name": "stdout"
        }
      ]
    },
    {
      "cell_type": "code",
      "metadata": {
        "id": "sYDt0Ckhr15V",
        "colab_type": "code",
        "colab": {
          "base_uri": "https://localhost:8080/",
          "height": 69
        },
        "outputId": "3c590a8d-bc16-4d73-c947-08ffe57c237b"
      },
      "source": [
        "k_col_gpu = k_col.to('cuda', dtype=torch.float)    # to gpu\n",
        "print(k_col_gpu.requires_grad)\n",
        "print(k_col_gpu.grad_fn)\n",
        "print(k_col_gpu.is_leaf)"
      ],
      "execution_count": 44,
      "outputs": [
        {
          "output_type": "stream",
          "text": [
            "True\n",
            "<CopyBackwards object at 0x7f07cd0f07f0>\n",
            "False\n"
          ],
          "name": "stdout"
        }
      ]
    },
    {
      "cell_type": "code",
      "metadata": {
        "id": "vAu1EJ7ksRCs",
        "colab_type": "code",
        "colab": {
          "base_uri": "https://localhost:8080/",
          "height": 34
        },
        "outputId": "f44f0c18-0485-4b3a-d532-f57022519f85"
      },
      "source": [
        "print(k_col_gpu.shape, x_col_t_cuda.shape)\n",
        "x_out = torch.mm(k_col_gpu, x_col_t_cuda)"
      ],
      "execution_count": 46,
      "outputs": [
        {
          "output_type": "stream",
          "text": [
            "torch.Size([4, 12]) torch.Size([12, 729])\n"
          ],
          "name": "stdout"
        }
      ]
    },
    {
      "cell_type": "code",
      "metadata": {
        "id": "IAalqroLsxN2",
        "colab_type": "code",
        "colab": {
          "base_uri": "https://localhost:8080/",
          "height": 34
        },
        "outputId": "02afb46c-1e3e-4bbc-8d64-3d7582f8538a"
      },
      "source": [
        "print(x_out.shape)"
      ],
      "execution_count": 47,
      "outputs": [
        {
          "output_type": "stream",
          "text": [
            "torch.Size([4, 729])\n"
          ],
          "name": "stdout"
        }
      ]
    },
    {
      "cell_type": "code",
      "metadata": {
        "id": "OUkX1ALgskZ_",
        "colab_type": "code",
        "colab": {
          "base_uri": "https://localhost:8080/",
          "height": 52
        },
        "outputId": "6c0884aa-5aae-43a5-8ab9-b86a6ea4682d"
      },
      "source": [
        "print(x_out.requires_grad)\n",
        "print(x_out.grad_fn)"
      ],
      "execution_count": 48,
      "outputs": [
        {
          "output_type": "stream",
          "text": [
            "True\n",
            "<MmBackward object at 0x7f07d5e2bef0>\n"
          ],
          "name": "stdout"
        }
      ]
    },
    {
      "cell_type": "code",
      "metadata": {
        "id": "DDU9hIEqs5Dz",
        "colab_type": "code",
        "colab": {
          "base_uri": "https://localhost:8080/",
          "height": 34
        },
        "outputId": "5fa72193-dbe3-4e2e-88ba-b5e717830fbc"
      },
      "source": [
        "x_out_final = x_out.view(C_out, h_out, w_out)\n",
        "x_out_final.shape"
      ],
      "execution_count": 49,
      "outputs": [
        {
          "output_type": "execute_result",
          "data": {
            "text/plain": [
              "torch.Size([4, 27, 27])"
            ]
          },
          "metadata": {
            "tags": []
          },
          "execution_count": 49
        }
      ]
    },
    {
      "cell_type": "code",
      "metadata": {
        "id": "lfK6GuH9tKdV",
        "colab_type": "code",
        "colab": {
          "base_uri": "https://localhost:8080/",
          "height": 69
        },
        "outputId": "2f102ee3-bd55-483c-bd88-c35c37e7abc4"
      },
      "source": [
        "# moment of truth\n",
        "print(x_out_final.requires_grad)\n",
        "print(x_out_final.grad_fn)\n",
        "print(x_out_final.is_leaf)"
      ],
      "execution_count": 51,
      "outputs": [
        {
          "output_type": "stream",
          "text": [
            "True\n",
            "<ViewBackward object at 0x7f07d5de5c88>\n",
            "False\n"
          ],
          "name": "stdout"
        }
      ]
    },
    {
      "cell_type": "markdown",
      "metadata": {
        "id": "8D0ByZXLtmrO",
        "colab_type": "text"
      },
      "source": [
        "### Let's backprop now"
      ]
    },
    {
      "cell_type": "code",
      "metadata": {
        "id": "hrK8KJ9XtnPG",
        "colab_type": "code",
        "colab": {}
      },
      "source": [
        "loss = torch.nn.MSELoss(reduction='sum')"
      ],
      "execution_count": 0,
      "outputs": []
    },
    {
      "cell_type": "code",
      "metadata": {
        "id": "pod0CX6ytvpy",
        "colab_type": "code",
        "colab": {}
      },
      "source": [
        "y = torch.rand_like(x_out_final, dtype=torch.float, device='cuda')*2"
      ],
      "execution_count": 0,
      "outputs": []
    },
    {
      "cell_type": "code",
      "metadata": {
        "id": "81PvT7IEuAa1",
        "colab_type": "code",
        "colab": {
          "base_uri": "https://localhost:8080/",
          "height": 573
        },
        "outputId": "85539426-ba60-44b5-c725-8ccba660a9f3"
      },
      "source": [
        "print(y)"
      ],
      "execution_count": 59,
      "outputs": [
        {
          "output_type": "stream",
          "text": [
            "tensor([[[1.0779, 0.7363, 1.4410,  ..., 1.0774, 1.1681, 1.4276],\n",
            "         [0.5752, 0.3452, 1.2488,  ..., 1.0219, 0.4327, 0.8197],\n",
            "         [0.3465, 0.5466, 1.3813,  ..., 0.5199, 1.0800, 0.7481],\n",
            "         ...,\n",
            "         [0.0503, 1.5900, 1.7840,  ..., 0.8094, 1.8392, 1.1054],\n",
            "         [1.9059, 0.8647, 0.4012,  ..., 0.5458, 1.7754, 1.0504],\n",
            "         [0.7548, 0.6548, 0.8848,  ..., 1.3808, 0.8822, 1.6523]],\n",
            "\n",
            "        [[1.7525, 1.3746, 0.6401,  ..., 0.5344, 0.0471, 0.2882],\n",
            "         [1.4012, 1.9239, 1.4569,  ..., 1.6859, 1.0718, 1.8612],\n",
            "         [1.0573, 1.2915, 1.7502,  ..., 0.7491, 0.5394, 1.1549],\n",
            "         ...,\n",
            "         [0.5510, 1.7967, 1.8409,  ..., 0.3260, 0.3209, 0.1287],\n",
            "         [1.4140, 1.9443, 1.1496,  ..., 0.1182, 1.7204, 1.6857],\n",
            "         [0.0446, 0.6196, 1.3128,  ..., 1.8048, 1.9222, 0.3820]],\n",
            "\n",
            "        [[0.0610, 0.7955, 1.5580,  ..., 1.0814, 0.3084, 0.4804],\n",
            "         [0.5563, 0.5694, 0.9076,  ..., 0.6768, 0.2003, 1.1878],\n",
            "         [0.5625, 1.7562, 1.8248,  ..., 1.1715, 1.4536, 0.9598],\n",
            "         ...,\n",
            "         [0.7109, 1.3611, 0.5766,  ..., 1.1517, 0.5789, 1.6735],\n",
            "         [0.0773, 1.7965, 0.7075,  ..., 0.5237, 1.5392, 0.7153],\n",
            "         [1.5666, 1.2034, 1.8073,  ..., 0.6435, 1.3937, 0.8754]],\n",
            "\n",
            "        [[0.7271, 1.8774, 0.9884,  ..., 1.8099, 1.2773, 1.4318],\n",
            "         [1.9240, 0.8889, 0.6608,  ..., 1.4456, 1.4518, 0.2202],\n",
            "         [0.2124, 0.8787, 1.4957,  ..., 0.7990, 0.1566, 0.3409],\n",
            "         ...,\n",
            "         [1.1463, 1.2698, 1.1188,  ..., 1.8704, 0.6050, 0.5961],\n",
            "         [1.3006, 1.1794, 0.0696,  ..., 0.1515, 0.9415, 0.4362],\n",
            "         [0.2519, 0.9383, 0.2133,  ..., 0.4537, 1.8247, 1.8117]]],\n",
            "       device='cuda:0')\n"
          ],
          "name": "stdout"
        }
      ]
    },
    {
      "cell_type": "code",
      "metadata": {
        "id": "P3oxJsYHuCNO",
        "colab_type": "code",
        "colab": {
          "base_uri": "https://localhost:8080/",
          "height": 52
        },
        "outputId": "baf3e1e6-bc1e-48fb-d9b6-19acf8e32fbe"
      },
      "source": [
        "print(y.requires_grad)\n",
        "print(y.is_leaf)"
      ],
      "execution_count": 60,
      "outputs": [
        {
          "output_type": "stream",
          "text": [
            "False\n",
            "True\n"
          ],
          "name": "stdout"
        }
      ]
    },
    {
      "cell_type": "code",
      "metadata": {
        "id": "5IMIO4dwuGdE",
        "colab_type": "code",
        "colab": {
          "base_uri": "https://localhost:8080/",
          "height": 573
        },
        "outputId": "cc4d7270-ea84-4d7a-fe99-2f04a5c7aebf"
      },
      "source": [
        "print(x_out_final)  # checking the magnitude"
      ],
      "execution_count": 61,
      "outputs": [
        {
          "output_type": "stream",
          "text": [
            "tensor([[[2.4588, 1.9888, 2.6494,  ..., 2.8088, 2.1124, 2.1825],\n",
            "         [2.7072, 2.1903, 2.3385,  ..., 2.6334, 3.5819, 2.5503],\n",
            "         [2.2628, 3.4325, 3.0799,  ..., 2.4191, 2.9195, 2.8200],\n",
            "         ...,\n",
            "         [2.6939, 3.5774, 3.2642,  ..., 1.7953, 2.7338, 2.9416],\n",
            "         [2.9370, 3.6831, 3.2801,  ..., 2.9853, 2.9768, 2.4105],\n",
            "         [3.2281, 3.4560, 3.4859,  ..., 3.3212, 2.6112, 2.4556]],\n",
            "\n",
            "        [[2.9001, 2.4742, 3.0539,  ..., 3.0904, 2.2951, 1.9649],\n",
            "         [3.4373, 2.9022, 2.0193,  ..., 3.1191, 3.5433, 2.2567],\n",
            "         [3.4956, 3.0646, 3.2512,  ..., 3.3227, 3.1910, 2.8646],\n",
            "         ...,\n",
            "         [3.7307, 3.3619, 3.3360,  ..., 2.1349, 2.7135, 2.6997],\n",
            "         [3.0728, 4.0720, 3.5770,  ..., 2.8562, 3.4816, 2.4407],\n",
            "         [3.0541, 4.0797, 3.9784,  ..., 3.1574, 3.4356, 2.7536]],\n",
            "\n",
            "        [[1.8838, 1.6032, 1.5547,  ..., 1.7364, 1.5973, 1.3380],\n",
            "         [1.9631, 1.5811, 1.5240,  ..., 2.1798, 2.3255, 1.7932],\n",
            "         [1.9677, 2.1491, 1.7950,  ..., 1.8336, 1.7051, 1.6602],\n",
            "         ...,\n",
            "         [1.7320, 2.2636, 2.2896,  ..., 1.3092, 2.0152, 1.7811],\n",
            "         [1.7707, 2.3634, 2.0643,  ..., 2.0148, 2.0156, 1.8781],\n",
            "         [1.8664, 2.4617, 2.2923,  ..., 2.0568, 1.9543, 1.4616]],\n",
            "\n",
            "        [[1.9079, 1.4697, 1.5058,  ..., 1.5594, 1.0712, 1.2228],\n",
            "         [2.2139, 1.4061, 1.1419,  ..., 1.7801, 1.7301, 1.8903],\n",
            "         [1.8407, 1.9584, 1.4143,  ..., 1.8145, 2.4172, 1.6011],\n",
            "         ...,\n",
            "         [2.4342, 1.8538, 1.7988,  ..., 1.1551, 1.4958, 2.3113],\n",
            "         [1.7626, 2.2920, 2.0970,  ..., 1.6804, 2.0314, 1.2306],\n",
            "         [1.6756, 2.4990, 2.7414,  ..., 2.1398, 2.1912, 1.7375]]],\n",
            "       device='cuda:0', grad_fn=<ViewBackward>)\n"
          ],
          "name": "stdout"
        }
      ]
    },
    {
      "cell_type": "code",
      "metadata": {
        "id": "utG5Oi7MuLlO",
        "colab_type": "code",
        "colab": {}
      },
      "source": [
        "loss_ = loss(x_out_final, y)"
      ],
      "execution_count": 0,
      "outputs": []
    },
    {
      "cell_type": "code",
      "metadata": {
        "id": "ZIO_9jYgueJs",
        "colab_type": "code",
        "colab": {
          "base_uri": "https://localhost:8080/",
          "height": 34
        },
        "outputId": "4442270e-d6e0-4d75-87db-e521a882f4be"
      },
      "source": [
        "print(loss_)"
      ],
      "execution_count": 63,
      "outputs": [
        {
          "output_type": "stream",
          "text": [
            "tensor(8253.8721, device='cuda:0', grad_fn=<MseLossBackward>)\n"
          ],
          "name": "stdout"
        }
      ]
    },
    {
      "cell_type": "code",
      "metadata": {
        "id": "0R8Q-mt4ugGH",
        "colab_type": "code",
        "colab": {}
      },
      "source": [
        "loss_.backward()"
      ],
      "execution_count": 0,
      "outputs": []
    },
    {
      "cell_type": "markdown",
      "metadata": {
        "id": "0QI7ophZul-k",
        "colab_type": "text"
      },
      "source": [
        "### Let's print the grads"
      ]
    },
    {
      "cell_type": "code",
      "metadata": {
        "id": "jyZ_NB8vuk1o",
        "colab_type": "code",
        "colab": {
          "base_uri": "https://localhost:8080/",
          "height": 416
        },
        "outputId": "a05c7132-a9b8-4d8f-f95e-cae0968a9fab"
      },
      "source": [
        "print(x.grad)"
      ],
      "execution_count": 65,
      "outputs": [
        {
          "output_type": "stream",
          "text": [
            "tensor([[[ 5.3825,  6.2556,  7.2395,  ...,  6.8728,  5.0658,  1.2409],\n",
            "         [12.1214, 16.6468, 12.3507,  ..., 21.9282, 17.8585,  6.9995],\n",
            "         [14.2796, 24.1571, 16.5720,  ..., 26.2706, 24.8124,  6.8416],\n",
            "         ...,\n",
            "         [11.3688, 25.0172, 25.3967,  ..., 17.8251, 16.7213,  8.4912],\n",
            "         [14.1096, 26.7388, 30.4649,  ..., 20.7332, 15.5110,  5.2640],\n",
            "         [ 5.5542, 15.1542, 15.7519,  ...,  9.6888,  7.3231,  4.8062]],\n",
            "\n",
            "        [[ 3.8229,  6.7660,  5.8613,  ...,  7.3426,  6.1416,  2.5127],\n",
            "         [ 7.7673, 14.6324, 11.8095,  ..., 17.9468, 15.3693,  4.7572],\n",
            "         [10.1069, 16.1810, 11.7481,  ..., 18.1754, 14.8501,  8.0058],\n",
            "         ...,\n",
            "         [10.9453, 18.9015, 18.1346,  ..., 15.1796, 15.5703,  8.8132],\n",
            "         [ 9.0653, 19.8548, 23.2319,  ..., 18.0649, 12.4256,  5.5578],\n",
            "         [ 6.7814, 13.8343, 13.3690,  ...,  8.7083,  7.6194,  2.3633]],\n",
            "\n",
            "        [[ 3.1171,  5.6844,  5.6374,  ...,  7.0368,  5.6943,  2.8490],\n",
            "         [ 8.9639, 15.3855, 13.1500,  ..., 19.8451, 18.8032,  7.9286],\n",
            "         [10.9020, 21.7720, 15.0153,  ..., 25.4028, 24.2201,  9.3547],\n",
            "         ...,\n",
            "         [10.4594, 22.2502, 23.7276,  ..., 21.7798, 18.3707,  9.9423],\n",
            "         [11.2497, 24.3634, 30.8297,  ..., 21.4377, 15.0658,  7.9549],\n",
            "         [ 6.4385, 17.0165, 17.2180,  ...,  9.8168,  9.6291,  4.8327]]])\n"
          ],
          "name": "stdout"
        }
      ]
    },
    {
      "cell_type": "code",
      "metadata": {
        "id": "FaqUNB9ruwuZ",
        "colab_type": "code",
        "colab": {
          "base_uri": "https://localhost:8080/",
          "height": 52
        },
        "outputId": "e861179f-c8c3-45fc-fe9a-b12c86161268"
      },
      "source": [
        "print(x.shape)\n",
        "print(x.grad.shape)"
      ],
      "execution_count": 69,
      "outputs": [
        {
          "output_type": "stream",
          "text": [
            "torch.Size([3, 28, 28])\n",
            "torch.Size([3, 28, 28])\n"
          ],
          "name": "stdout"
        }
      ]
    },
    {
      "cell_type": "code",
      "metadata": {
        "id": "ampEJcB1uqK5",
        "colab_type": "code",
        "colab": {
          "base_uri": "https://localhost:8080/",
          "height": 677
        },
        "outputId": "05effa76-b5c5-43c2-e623-d9b301af1a55"
      },
      "source": [
        "print(kernels.grad)"
      ],
      "execution_count": 66,
      "outputs": [
        {
          "output_type": "stream",
          "text": [
            "tensor([[[[1463.5704, 1416.5044],\n",
            "          [1462.6399, 1452.6211]],\n",
            "\n",
            "         [[1394.0062, 1378.3148],\n",
            "          [1371.7632, 1376.6411]],\n",
            "\n",
            "         [[1345.8103, 1386.7366],\n",
            "          [1348.7325, 1426.2594]]],\n",
            "\n",
            "\n",
            "        [[[1576.6775, 1505.4690],\n",
            "          [1511.4930, 1592.6027]],\n",
            "\n",
            "         [[1529.7990, 1488.8860],\n",
            "          [1572.4814, 1537.0872]],\n",
            "\n",
            "         [[1536.2754, 1540.5842],\n",
            "          [1566.6355, 1564.5747]]],\n",
            "\n",
            "\n",
            "        [[[ 662.2352,  660.4199],\n",
            "          [ 730.4019,  714.9020]],\n",
            "\n",
            "         [[ 697.0024,  702.4091],\n",
            "          [ 646.6875,  634.8527]],\n",
            "\n",
            "         [[ 650.3807,  651.5308],\n",
            "          [ 736.1923,  707.1312]]],\n",
            "\n",
            "\n",
            "        [[[ 704.5916,  687.4864],\n",
            "          [ 644.9044,  648.7449]],\n",
            "\n",
            "         [[ 634.8807,  620.9167],\n",
            "          [ 639.5372,  722.4066]],\n",
            "\n",
            "         [[ 714.1688,  687.8112],\n",
            "          [ 645.5270,  640.5413]]]])\n"
          ],
          "name": "stdout"
        }
      ]
    },
    {
      "cell_type": "code",
      "metadata": {
        "id": "PY67B3lTuso_",
        "colab_type": "code",
        "colab": {
          "base_uri": "https://localhost:8080/",
          "height": 52
        },
        "outputId": "72be9442-5589-41b7-8f29-5105917a2737"
      },
      "source": [
        "print(kernels.shape)\n",
        "print(kernels.grad.shape)"
      ],
      "execution_count": 68,
      "outputs": [
        {
          "output_type": "stream",
          "text": [
            "torch.Size([4, 3, 2, 2])\n",
            "torch.Size([4, 3, 2, 2])\n"
          ],
          "name": "stdout"
        }
      ]
    },
    {
      "cell_type": "markdown",
      "metadata": {
        "id": "o6suV_gQxXCS",
        "colab_type": "text"
      },
      "source": [
        "Don't mind the variables names. I just wanted to keep everything seperate and easy to debug. But ***All worked well***, and we could sucessfully use ***PyTorch Autograd***."
      ]
    }
  ]
}