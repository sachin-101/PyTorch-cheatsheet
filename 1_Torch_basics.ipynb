{
  "nbformat": 4,
  "nbformat_minor": 0,
  "metadata": {
    "colab": {
      "name": "Torch basics.ipynb",
      "version": "0.3.2",
      "provenance": [],
      "collapsed_sections": []
    },
    "kernelspec": {
      "name": "python3",
      "display_name": "Python 3"
    },
    "accelerator": "GPU"
  },
  "cells": [
    {
      "cell_type": "markdown",
      "metadata": {
        "id": "Gj1a7jXMpzF_",
        "colab_type": "text"
      },
      "source": [
        "**PyTorch** is basically an extension of Numpy, numerical library of python. Numpy arrays can't utilise GPUs, but pytorch Tensors can. This makes them faster for performing calculations and are thus extensively used for Deep Learning Models.\n",
        "\n",
        "Also pytorch is more ***pythonic*** compared to other deep learning frameworks\n",
        "as it is defined-by-run and supports dynamic graph. It is very flexible and integrates flawlessly with other scientific libraries in python such as Scikit-Learn, Numpy and Matplotlib."
      ]
    },
    {
      "cell_type": "code",
      "metadata": {
        "id": "2-89y736roBO",
        "colab_type": "code",
        "colab": {}
      },
      "source": [
        "import torch"
      ],
      "execution_count": 0,
      "outputs": []
    },
    {
      "cell_type": "code",
      "metadata": {
        "id": "ff9EpjHGpFsi",
        "colab_type": "code",
        "colab": {
          "base_uri": "https://localhost:8080/",
          "height": 52
        },
        "outputId": "592a3622-00df-4877-9f01-0e7115c9e50c"
      },
      "source": [
        "# zeros\n",
        "a = torch.zeros(2,3)\n",
        "a"
      ],
      "execution_count": 3,
      "outputs": [
        {
          "output_type": "execute_result",
          "data": {
            "text/plain": [
              "tensor([[0., 0., 0.],\n",
              "        [0., 0., 0.]])"
            ]
          },
          "metadata": {
            "tags": []
          },
          "execution_count": 3
        }
      ]
    },
    {
      "cell_type": "code",
      "metadata": {
        "id": "UEAkTpFHr7Df",
        "colab_type": "code",
        "colab": {
          "base_uri": "https://localhost:8080/",
          "height": 69
        },
        "outputId": "5ded7fb6-28c1-47d7-ca1e-5ddf3131263f"
      },
      "source": [
        "# ones\n",
        "b = torch.ones(3,4)\n",
        "b"
      ],
      "execution_count": 4,
      "outputs": [
        {
          "output_type": "execute_result",
          "data": {
            "text/plain": [
              "tensor([[1., 1., 1., 1.],\n",
              "        [1., 1., 1., 1.],\n",
              "        [1., 1., 1., 1.]])"
            ]
          },
          "metadata": {
            "tags": []
          },
          "execution_count": 4
        }
      ]
    },
    {
      "cell_type": "code",
      "metadata": {
        "id": "KVMUNRobr_bq",
        "colab_type": "code",
        "colab": {
          "base_uri": "https://localhost:8080/",
          "height": 52
        },
        "outputId": "d0e5098c-90ff-4214-e17e-cac490856972"
      },
      "source": [
        "# dtype\n",
        "print(a.dtype)\n",
        "print(b.dtype)"
      ],
      "execution_count": 5,
      "outputs": [
        {
          "output_type": "stream",
          "text": [
            "torch.float32\n",
            "torch.float32\n"
          ],
          "name": "stdout"
        }
      ]
    },
    {
      "cell_type": "markdown",
      "metadata": {
        "id": "zy1UnoLNsIT_",
        "colab_type": "text"
      },
      "source": [
        "- default datatype is float32"
      ]
    },
    {
      "cell_type": "code",
      "metadata": {
        "id": "99MUekeNsFr3",
        "colab_type": "code",
        "colab": {
          "base_uri": "https://localhost:8080/",
          "height": 52
        },
        "outputId": "bcac3af7-c9c8-46a9-8cc0-b09970d590ca"
      },
      "source": [
        "# both return same\n",
        "print(a.shape)\n",
        "print(a.size())"
      ],
      "execution_count": 6,
      "outputs": [
        {
          "output_type": "stream",
          "text": [
            "torch.Size([2, 3])\n",
            "torch.Size([2, 3])\n"
          ],
          "name": "stdout"
        }
      ]
    },
    {
      "cell_type": "code",
      "metadata": {
        "id": "xZX_7rB5sUZi",
        "colab_type": "code",
        "colab": {
          "base_uri": "https://localhost:8080/",
          "height": 34
        },
        "outputId": "0e8dce52-b727-4cc2-dc7f-00ccc30cbd97"
      },
      "source": [
        "# initialising a double tensor\n",
        "c = torch.DoubleTensor([[1,2,3],[4,5,6]])\n",
        "c.dtype"
      ],
      "execution_count": 10,
      "outputs": [
        {
          "output_type": "execute_result",
          "data": {
            "text/plain": [
              "torch.float64"
            ]
          },
          "metadata": {
            "tags": []
          },
          "execution_count": 10
        }
      ]
    },
    {
      "cell_type": "markdown",
      "metadata": {
        "id": "JFTLNSH9swAx",
        "colab_type": "text"
      },
      "source": [
        "- float64 means more precision"
      ]
    },
    {
      "cell_type": "code",
      "metadata": {
        "id": "lgzAhV5nslbT",
        "colab_type": "code",
        "colab": {
          "base_uri": "https://localhost:8080/",
          "height": 52
        },
        "outputId": "bdc0b0a6-3c87-4d84-ba46-11736439066d"
      },
      "source": [
        "print(c.mean())\n",
        "print(c.std())  # standard deviation"
      ],
      "execution_count": 11,
      "outputs": [
        {
          "output_type": "stream",
          "text": [
            "tensor(3.5000, dtype=torch.float64)\n",
            "tensor(1.8708, dtype=torch.float64)\n"
          ],
          "name": "stdout"
        }
      ]
    },
    {
      "cell_type": "code",
      "metadata": {
        "id": "FB7RV3Jes4FB",
        "colab_type": "code",
        "colab": {
          "base_uri": "https://localhost:8080/",
          "height": 69
        },
        "outputId": "08e3198d-4fb2-4693-8222-2cbd6ccaf089"
      },
      "source": [
        "# initialsing a tensor on gpu\n",
        "d = torch.tensor([[1,2,3],[4,5,6]], device='cuda' if torch.cuda.is_available() else 'cpu')\n",
        "print(d)\n",
        "print(d.device)"
      ],
      "execution_count": 15,
      "outputs": [
        {
          "output_type": "stream",
          "text": [
            "tensor([[1, 2, 3],\n",
            "        [4, 5, 6]], device='cuda:0')\n",
            "cuda:0\n"
          ],
          "name": "stdout"
        }
      ]
    },
    {
      "cell_type": "markdown",
      "metadata": {
        "id": "5wPom-9stb4c",
        "colab_type": "text"
      },
      "source": [
        "- Hence it is on Cuda (Nvidia GPU). Also that 0 denotes it's on the first GPU."
      ]
    },
    {
      "cell_type": "code",
      "metadata": {
        "id": "UV1IU4rQtPic",
        "colab_type": "code",
        "colab": {
          "base_uri": "https://localhost:8080/",
          "height": 52
        },
        "outputId": "efed5842-60e1-4105-816b-8a54293f9664"
      },
      "source": [
        "# reshaping a tensor using view\n",
        "print(b.shape)\n",
        "b = b.view(4,3)\n",
        "print(b.shape)"
      ],
      "execution_count": 16,
      "outputs": [
        {
          "output_type": "stream",
          "text": [
            "torch.Size([3, 4])\n",
            "torch.Size([4, 3])\n"
          ],
          "name": "stdout"
        }
      ]
    },
    {
      "cell_type": "code",
      "metadata": {
        "id": "Eh28lsHwt0Vz",
        "colab_type": "code",
        "colab": {
          "base_uri": "https://localhost:8080/",
          "height": 52
        },
        "outputId": "903132af-bb1d-49c0-f70b-896e56f33335"
      },
      "source": [
        "# reshaping a tesnor using reshape\n",
        "print(b.shape)\n",
        "b = b.reshape(3,4)\n",
        "print(b.shape)"
      ],
      "execution_count": 18,
      "outputs": [
        {
          "output_type": "stream",
          "text": [
            "torch.Size([4, 3])\n",
            "torch.Size([3, 4])\n"
          ],
          "name": "stdout"
        }
      ]
    },
    {
      "cell_type": "markdown",
      "metadata": {
        "id": "_JtOHMV8uZnj",
        "colab_type": "text"
      },
      "source": [
        "- pytorch by default treats the dimension of 3-D tensors as ***(channel, Height, width)***."
      ]
    },
    {
      "cell_type": "code",
      "metadata": {
        "id": "PepzACmSt8Bb",
        "colab_type": "code",
        "colab": {
          "base_uri": "https://localhost:8080/",
          "height": 34
        },
        "outputId": "43d6cf6d-cb51-4c8d-f837-988f216129b3"
      },
      "source": [
        "# random tensor in torch, each value is in between 0 and 1\n",
        "r1 = torch.rand((4,4), dtype=torch.float)\n",
        "print(r1.dtype)"
      ],
      "execution_count": 22,
      "outputs": [
        {
          "output_type": "stream",
          "text": [
            "torch.float32\n"
          ],
          "name": "stdout"
        }
      ]
    },
    {
      "cell_type": "code",
      "metadata": {
        "id": "x9dloj2qu7px",
        "colab_type": "code",
        "colab": {
          "base_uri": "https://localhost:8080/",
          "height": 104
        },
        "outputId": "e97c5465-9e2a-4a04-936d-f2e2392ba42e"
      },
      "source": [
        "# random tensor with normal distribution, i.e mean = 0 and variance 1\n",
        "# the values belong to -infinity and infinity\n",
        "r2 = torch.randn((4,4), device='cuda') \n",
        "print(r2)\n",
        "print(r2.mean())"
      ],
      "execution_count": 58,
      "outputs": [
        {
          "output_type": "stream",
          "text": [
            "tensor([[-0.7287,  0.1141, -1.0599, -0.9317],\n",
            "        [-0.6752,  1.3931, -0.9183, -0.6202],\n",
            "        [-0.4702, -2.4342,  0.0434, -1.8054],\n",
            "        [ 1.0517,  2.3745, -0.2207,  0.0520]], device='cuda:0')\n",
            "tensor(-0.3022, device='cuda:0')\n"
          ],
          "name": "stdout"
        }
      ]
    },
    {
      "cell_type": "markdown",
      "metadata": {
        "id": "1WNMU460xEYO",
        "colab_type": "text"
      },
      "source": [
        "#### Difference between rand and randn\n",
        "Results of generating 1000000 samples.\n",
        "\n",
        "![](https://qphs.fs.quoracdn.net/main-qimg-c959937e8eeb7892dc7f76afb225c271)\n",
        "![](https://qphs.fs.quoracdn.net/main-qimg-60ba791fed295fd9b06939bb63e274f8)"
      ]
    },
    {
      "cell_type": "code",
      "metadata": {
        "id": "ads1lfSFuO3_",
        "colab_type": "code",
        "colab": {
          "base_uri": "https://localhost:8080/",
          "height": 69
        },
        "outputId": "f5651859-c575-47f7-a812-a4e5c5569add"
      },
      "source": [
        "# generating tensor with random integers in between a and b\n",
        "i = torch.randint(0,5, (2,2), device='cuda')\n",
        "print(i.dtype)\n",
        "print(i)"
      ],
      "execution_count": 29,
      "outputs": [
        {
          "output_type": "stream",
          "text": [
            "torch.int64\n",
            "tensor([[1, 1],\n",
            "        [2, 0]], device='cuda:0')\n"
          ],
          "name": "stdout"
        }
      ]
    },
    {
      "cell_type": "code",
      "metadata": {
        "id": "KA_BtTIDx6yk",
        "colab_type": "code",
        "colab": {
          "base_uri": "https://localhost:8080/",
          "height": 34
        },
        "outputId": "c0c3af79-01cf-402c-c2d2-a92b1b004b03"
      },
      "source": [
        "# Get the number of elements\n",
        "print(torch.numel(i))"
      ],
      "execution_count": 30,
      "outputs": [
        {
          "output_type": "stream",
          "text": [
            "4\n"
          ],
          "name": "stdout"
        }
      ]
    },
    {
      "cell_type": "code",
      "metadata": {
        "id": "K0wZAL6_yc1j",
        "colab_type": "code",
        "colab": {
          "base_uri": "https://localhost:8080/",
          "height": 69
        },
        "outputId": "1e0eebc3-9146-4d8f-a428-9a11ee26a761"
      },
      "source": [
        "# Get the sclar value from a tensor with one element\n",
        "k = torch.tensor([2])\n",
        "print(k.shape)\n",
        "k_value = k.item()   # item()\n",
        "print(k_value)\n",
        "print(type(k_value))"
      ],
      "execution_count": 41,
      "outputs": [
        {
          "output_type": "stream",
          "text": [
            "torch.Size([1])\n",
            "2\n",
            "<class 'int'>\n"
          ],
          "name": "stdout"
        }
      ]
    },
    {
      "cell_type": "code",
      "metadata": {
        "id": "CoruH80FyvU1",
        "colab_type": "code",
        "colab": {
          "base_uri": "https://localhost:8080/",
          "height": 69
        },
        "outputId": "a6f35552-96cd-4b03-b24c-6f17acf1ef99"
      },
      "source": [
        "# initialise a tensor with shape equalt to another tensor's shape\n",
        "r2_like = torch.rand_like(r2, dtype=torch.double)\n",
        "print(r2.shape)\n",
        "print(r2_like.shape)\n",
        "print(r2_like.dtype)"
      ],
      "execution_count": 42,
      "outputs": [
        {
          "output_type": "stream",
          "text": [
            "torch.Size([4, 4])\n",
            "torch.Size([4, 4])\n",
            "torch.float64\n"
          ],
          "name": "stdout"
        }
      ]
    },
    {
      "cell_type": "markdown",
      "metadata": {
        "id": "q5lGmizV0L1c",
        "colab_type": "text"
      },
      "source": [
        "### operations"
      ]
    },
    {
      "cell_type": "code",
      "metadata": {
        "id": "gTwNM6fe0InP",
        "colab_type": "code",
        "colab": {
          "base_uri": "https://localhost:8080/",
          "height": 34
        },
        "outputId": "29c834d6-87ab-4279-c683-18895576cd84"
      },
      "source": [
        "def add(a,b):\n",
        "    r3 = None\n",
        "    if a.device == b.device:\n",
        "        if a.shape == b.shape:\n",
        "            r3 = torch.add(r2, r1)  # need to \n",
        "    return r3    \n",
        "r3 = add(r1, r2)\n",
        "print(r3)"
      ],
      "execution_count": 47,
      "outputs": [
        {
          "output_type": "stream",
          "text": [
            "None\n"
          ],
          "name": "stdout"
        }
      ]
    },
    {
      "cell_type": "code",
      "metadata": {
        "id": "jhPRe9fj0TXx",
        "colab_type": "code",
        "colab": {
          "base_uri": "https://localhost:8080/",
          "height": 52
        },
        "outputId": "d81d43dd-a364-4e7c-e63e-20fb8cfd99a5"
      },
      "source": [
        "# le't check\n",
        "print(r1.device)\n",
        "print(r2.device)"
      ],
      "execution_count": 51,
      "outputs": [
        {
          "output_type": "stream",
          "text": [
            "cpu\n",
            "cuda:0\n"
          ],
          "name": "stdout"
        }
      ]
    },
    {
      "cell_type": "code",
      "metadata": {
        "id": "_gyeljjy1IHo",
        "colab_type": "code",
        "colab": {
          "base_uri": "https://localhost:8080/",
          "height": 86
        },
        "outputId": "f86f51db-c637-474d-c723-f89988c5907c"
      },
      "source": [
        "# gotcha, transfer r1 to gpu\n",
        "r1 = r1.to(device='cuda')\n",
        "r3 = add(r1, r2)\n",
        "print(r3)"
      ],
      "execution_count": 59,
      "outputs": [
        {
          "output_type": "stream",
          "text": [
            "tensor([[-0.4928,  0.9808, -0.5023, -0.4091],\n",
            "        [-0.1903,  1.7401, -0.9022,  0.0090],\n",
            "        [ 0.2297, -2.0197,  0.3482, -1.2343],\n",
            "        [ 1.7424,  2.5603,  0.3039,  0.4817]], device='cuda:0')\n"
          ],
          "name": "stdout"
        }
      ]
    },
    {
      "cell_type": "code",
      "metadata": {
        "id": "2D50rQN81i6-",
        "colab_type": "code",
        "colab": {
          "base_uri": "https://localhost:8080/",
          "height": 156
        },
        "outputId": "df06f323-220a-4f00-aaff-41342361d803"
      },
      "source": [
        "# in-place addition\n",
        "r2.add_(r1)  # r2 = torch.add(r2,r1)\n",
        "print(r2)\n",
        "print(r2 == r3)"
      ],
      "execution_count": 62,
      "outputs": [
        {
          "output_type": "stream",
          "text": [
            "tensor([[-0.4928,  0.9808, -0.5023, -0.4091],\n",
            "        [-0.1903,  1.7401, -0.9022,  0.0090],\n",
            "        [ 0.2297, -2.0197,  0.3482, -1.2343],\n",
            "        [ 1.7424,  2.5603,  0.3039,  0.4817]], device='cuda:0')\n",
            "tensor([[1, 1, 1, 1],\n",
            "        [1, 1, 1, 1],\n",
            "        [1, 1, 1, 1],\n",
            "        [1, 1, 1, 1]], device='cuda:0', dtype=torch.uint8)\n"
          ],
          "name": "stdout"
        }
      ]
    },
    {
      "cell_type": "code",
      "metadata": {
        "id": "Jdj2ezwm2az-",
        "colab_type": "code",
        "colab": {
          "base_uri": "https://localhost:8080/",
          "height": 52
        },
        "outputId": "17c0e094-d747-4f58-d67d-ed348cc00fb6"
      },
      "source": [
        "# dot product\n",
        "x = torch.tensor([1,2,3])\n",
        "y = torch.tensor([4,5,6])\n",
        "dot_1 = torch.dot(x,y)    # torch.dot()\n",
        "dot_2 = torch.sum(torch.mul(x,y))    # torch.mul()\n",
        "print(dot_1)\n",
        "print(dot_2)"
      ],
      "execution_count": 65,
      "outputs": [
        {
          "output_type": "stream",
          "text": [
            "tensor(32)\n",
            "tensor(32)\n"
          ],
          "name": "stdout"
        }
      ]
    }
  ]
}