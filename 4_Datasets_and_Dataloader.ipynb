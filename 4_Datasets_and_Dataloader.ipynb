{
  "nbformat": 4,
  "nbformat_minor": 0,
  "metadata": {
    "colab": {
      "name": "Datasets and Dataloader.ipynb",
      "provenance": [],
      "collapsed_sections": []
    },
    "kernelspec": {
      "name": "python3",
      "display_name": "Python 3"
    },
    "accelerator": "GPU"
  },
  "cells": [
    {
      "cell_type": "code",
      "metadata": {
        "id": "7GIJ8fokm-Uz",
        "colab_type": "code",
        "colab": {}
      },
      "source": [
        "import torch\n",
        "import torch.nn as nn\n",
        "import torch.nn.functional as F\n",
        "import torch.optim as optim\n",
        "from torchvision import datasets, transforms\n",
        "from torch.utils.data import DataLoader\n",
        "\n",
        "\n",
        "class BaseModel(nn.Module):\n",
        "    def __init__(self):\n",
        "        super(BaseModel, self).__init__()\n",
        "        self.conv1 = nn.Conv2d(1, 16, 3)\n",
        "        self.conv2 = nn.Conv2d(16, 64, 3)\n",
        "        self.fc1 = nn.Linear(64*24*24, 1024)\n",
        "        self.fc2 = nn.Linear(1024, 128)\n",
        "        self.fc3 = nn.Linear(128, 10)\n",
        "\n",
        "    def forward(self, x):\n",
        "        x = F.relu(self.conv1(x))\n",
        "        x = F.relu(self.conv2(x))\n",
        "        batch_size = x.shape[0]\n",
        "        x = x.view(batch_size, -1)\n",
        "        x = F.relu(self.fc1(x))\n",
        "        x = F.relu(self.fc2(x))\n",
        "        return F.log_softmax(self.fc3(x))"
      ],
      "execution_count": 0,
      "outputs": []
    },
    {
      "cell_type": "code",
      "metadata": {
        "id": "_Sy-6f9gm_A2",
        "colab_type": "code",
        "colab": {}
      },
      "source": [
        "def train(model, device, train_loader, optimizer, epoch, log_interval):\n",
        "    model.train()\n",
        "    for batch_idx, (data, target) in enumerate(train_loader):\n",
        "        data, target = data.to(device), target.to(device)\n",
        "        optimizer.zero_grad()\n",
        "        output = model(data)\n",
        "        loss = F.nll_loss(output, target)\n",
        "        loss.backward()\n",
        "        optimizer.step()\n",
        "        if batch_idx % log_interval == 0:\n",
        "            print('Train Epoch: {} [{}/{} ({:.0f}%)]\\tLoss: {:.6f}'.format(\n",
        "                epoch, batch_idx * len(data), len(train_loader.dataset),\n",
        "                100. * batch_idx / len(train_loader), loss.item()))"
      ],
      "execution_count": 0,
      "outputs": []
    },
    {
      "cell_type": "code",
      "metadata": {
        "id": "xVp0HwjsnEmB",
        "colab_type": "code",
        "colab": {}
      },
      "source": [
        "def test(model, device, test_loader):\n",
        "    model.eval()\n",
        "    test_loss = 0\n",
        "    correct = 0\n",
        "    with torch.no_grad():\n",
        "        for data, target in test_loader:\n",
        "            data, target = data.to(device), target.to(device)\n",
        "            output = model(data)\n",
        "            test_loss += F.nll_loss(output, target, reduction='sum').item() # sum up batch loss\n",
        "            pred = output.argmax(dim=1, keepdim=True) # get the index of the max log-probability\n",
        "            correct += pred.eq(target.view_as(pred)).sum().item()\n",
        "\n",
        "    test_loss /= len(test_loader.dataset)\n",
        "\n",
        "    print('\\nTest set: Average loss: {:.4f}, Accuracy: {}/{} ({:.0f}%)\\n'.format(\n",
        "        test_loss, correct, len(test_loader.dataset),\n",
        "        100. * correct / len(test_loader.dataset)))"
      ],
      "execution_count": 0,
      "outputs": []
    },
    {
      "cell_type": "code",
      "metadata": {
        "id": "xHiU9E9SnajY",
        "colab_type": "code",
        "colab": {
          "base_uri": "https://localhost:8080/",
          "height": 732
        },
        "outputId": "f2774026-0ddd-4ae7-eb4d-0d2f0124fec6"
      },
      "source": [
        "batch_size = 64\n",
        "device = 'cuda:0' if torch.cuda.is_available() else 'cpu'\n",
        "lr = 0.01\n",
        "epochs = 3\n",
        "\n",
        "data_loc = '/content/'\n",
        "\n",
        "t = transforms.Compose([transforms.ToTensor(), transforms.Normalize((0.1307,), (0.3081,))])\n",
        "train_dataset = datasets.MNIST(root=data_loc, train=True, transform=t, download=True)\n",
        "test_dataset = datasets.MNIST(root=data_loc, train=False, transform=t)\n",
        "train_loader = DataLoader(dataset=train_dataset, batch_size=batch_size, shuffle=True)\n",
        "test_loader = DataLoader(dataset=test_dataset, batch_size=batch_size, shuffle=False)\n",
        "\n",
        "model = BaseModel().to(device)\n",
        "optimizer = optim.SGD(model.parameters(), lr=lr)\n",
        "\n",
        "for epoch in range(1, epochs + 1):\n",
        "    train(model, device, train_loader, optimizer, epoch, log_interval=100)\n",
        "    test(model, device, test_loader)"
      ],
      "execution_count": 8,
      "outputs": [
        {
          "output_type": "stream",
          "text": [
            "/usr/local/lib/python3.6/dist-packages/ipykernel_launcher.py:25: UserWarning: Implicit dimension choice for log_softmax has been deprecated. Change the call to include dim=X as an argument.\n"
          ],
          "name": "stderr"
        },
        {
          "output_type": "stream",
          "text": [
            "Train Epoch: 1 [0/60000 (0%)]\tLoss: 2.299880\n",
            "Train Epoch: 1 [6400/60000 (11%)]\tLoss: 1.066614\n",
            "Train Epoch: 1 [12800/60000 (21%)]\tLoss: 0.493760\n",
            "Train Epoch: 1 [19200/60000 (32%)]\tLoss: 0.286462\n",
            "Train Epoch: 1 [25600/60000 (43%)]\tLoss: 0.327690\n",
            "Train Epoch: 1 [32000/60000 (53%)]\tLoss: 0.206194\n",
            "Train Epoch: 1 [38400/60000 (64%)]\tLoss: 0.296447\n",
            "Train Epoch: 1 [44800/60000 (75%)]\tLoss: 0.329398\n",
            "Train Epoch: 1 [51200/60000 (85%)]\tLoss: 0.177194\n",
            "Train Epoch: 1 [57600/60000 (96%)]\tLoss: 0.206989\n",
            "\n",
            "Test set: Average loss: 0.1859, Accuracy: 9465/10000 (95%)\n",
            "\n",
            "Train Epoch: 2 [0/60000 (0%)]\tLoss: 0.091135\n",
            "Train Epoch: 2 [6400/60000 (11%)]\tLoss: 0.350534\n",
            "Train Epoch: 2 [12800/60000 (21%)]\tLoss: 0.164717\n",
            "Train Epoch: 2 [19200/60000 (32%)]\tLoss: 0.205324\n",
            "Train Epoch: 2 [25600/60000 (43%)]\tLoss: 0.132031\n",
            "Train Epoch: 2 [32000/60000 (53%)]\tLoss: 0.248782\n",
            "Train Epoch: 2 [38400/60000 (64%)]\tLoss: 0.174042\n",
            "Train Epoch: 2 [44800/60000 (75%)]\tLoss: 0.230818\n",
            "Train Epoch: 2 [51200/60000 (85%)]\tLoss: 0.197198\n",
            "Train Epoch: 2 [57600/60000 (96%)]\tLoss: 0.155995\n",
            "\n",
            "Test set: Average loss: 0.1262, Accuracy: 9615/10000 (96%)\n",
            "\n",
            "Train Epoch: 3 [0/60000 (0%)]\tLoss: 0.037370\n",
            "Train Epoch: 3 [6400/60000 (11%)]\tLoss: 0.127755\n",
            "Train Epoch: 3 [12800/60000 (21%)]\tLoss: 0.049676\n",
            "Train Epoch: 3 [19200/60000 (32%)]\tLoss: 0.156050\n",
            "Train Epoch: 3 [25600/60000 (43%)]\tLoss: 0.087891\n",
            "Train Epoch: 3 [32000/60000 (53%)]\tLoss: 0.065240\n",
            "Train Epoch: 3 [38400/60000 (64%)]\tLoss: 0.056817\n",
            "Train Epoch: 3 [44800/60000 (75%)]\tLoss: 0.030004\n",
            "Train Epoch: 3 [51200/60000 (85%)]\tLoss: 0.097718\n",
            "Train Epoch: 3 [57600/60000 (96%)]\tLoss: 0.054436\n",
            "\n",
            "Test set: Average loss: 0.1074, Accuracy: 9648/10000 (96%)\n",
            "\n"
          ],
          "name": "stdout"
        }
      ]
    }
  ]
}